{
 "cells": [
  {
   "cell_type": "markdown",
   "metadata": {},
   "source": [
    "# Quantum Image Processing\n",
    "\n",
    "In this notebook we will see how to encode images with the FRQI and NEQR techniques\n",
    "\n",
    "You can find an introduction at the following link:\n",
    "[Qiskit](https://qiskit.org/textbook/ch-applications/image-processing-frqi-neqr.html)"
   ]
  },
  {
   "cell_type": "code",
   "execution_count": 1,
   "metadata": {},
   "outputs": [],
   "source": [
    "%matplotlib inline\n",
    "from qiskit import QuantumRegister, QuantumCircuit\n",
    "from qiskit.providers.aer import AerSimulator\n",
    "from qiskit import transpile, assemble\n",
    "from qiskit.circuit.library.standard_gates import RYGate\n",
    "\n",
    "import matplotlib.pyplot as plt\n",
    "import numpy as np\n",
    "from PIL import Image\n",
    "import math"
   ]
  },
  {
   "cell_type": "markdown",
   "metadata": {},
   "source": [
    "#### Create or Load your Images"
   ]
  },
  {
   "cell_type": "code",
   "execution_count": 2,
   "metadata": {},
   "outputs": [
    {
     "data": {
      "text/plain": [
       "<matplotlib.image.AxesImage at 0x7ff2466c5970>"
      ]
     },
     "execution_count": 2,
     "metadata": {},
     "output_type": "execute_result"
    },
    {
     "data": {
      "image/png": "[encoded data removed]",
      "text/plain": [
       "<Figure size 432x288 with 1 Axes>"
      ]
     },
     "metadata": {
      "needs_background": "light"
     },
     "output_type": "display_data"
    }
   ],
   "source": [
    "# Resize dimensions\n",
    "w, h = 32, 32\n",
    "# Define the rotational angles\n",
    "angles = [0]#, -10, -20, -30, -40, -50]\n",
    "\n",
    "# Load and resize an image\n",
    "jpg_image = Image.open(\"lena.jpg\").resize((w, h))\n",
    "\n",
    "# Load and turn all images\n",
    "image = np.zeros((h, w*len(angles)))\n",
    "\n",
    "for i, theta in enumerate(angles):\n",
    "    image[:, i*w:(i + 1)*w] = np.asarray(jpg_image.rotate(theta))\n",
    "\n",
    "plt.imshow(image, cmap='gray', vmin=0, vmax=255)\n",
    "\n",
    "\n",
    "# Create your image\n",
    "# image = np.asarray([[0, 15, 30, 45],\n",
    "#                     [60, 75, 90, 105],\n",
    "#                     [120, 135, 150, 165],\n",
    "#                     [180, 195, 210, 225]])\n",
    "\n",
    "plt.imshow(image, cmap='gray', vmin=0, vmax=255)"
   ]
  },
  {
   "cell_type": "markdown",
   "metadata": {},
   "source": [
    "## FRQI: Flexible Representation of Quantum Images\n",
    "\n",
    "\\begin{equation*}\n",
    "\\left|I(\\theta)\\right\\rangle =\n",
    "    \\frac{1}{2^n}\\sum_{i=0}^{2^{2n-1}}\n",
    "        \\left( cos(\\theta_i)\\left| 0 \\right\\rangle + sin(\\theta_i)\\left| 1 \\right\\rangle \\right)\n",
    "        \\otimes \\left| i \\right\\rangle\n",
    "\\end{equation*}"
   ]
  },
  {
   "cell_type": "code",
   "execution_count": null,
   "metadata": {
    "pycharm": {
     "name": "#%%\n"
    }
   },
   "outputs": [],
   "source": [
    "# Define the number of qubits needed to store the image positions\n",
    "num_rows, num_cols = image.shape\n",
    "\n",
    "# Scale the intensity inside [0, pi/2]\n",
    "scaled_img = (np.pi/2)*(image / 255)\n",
    "\n",
    "# Image size\n",
    "height = QuantumRegister(math.ceil(np.log2(num_rows)), 'height')\n",
    "width = QuantumRegister(math.ceil(np.log2(num_cols)), 'width')\n",
    "\n",
    "# Grayscale pixel intensity value\n",
    "intensity = QuantumRegister(1, 'intensity')\n",
    "\n",
    "# Set the total number of qubits\n",
    "num_qubits = intensity.size + width.size + height.size\n",
    "\n",
    "# create the quantum circuit for the image\n",
    "qc_image = QuantumCircuit(height, width, intensity, name='Image Encoding')\n",
    "\n",
    "# create a larger circuit to integrate the quantum image encoding\n",
    "qc = QuantumCircuit(height, width, intensity)\n",
    "\n",
    "# Add Hadamard gates to store the rows and columns of the image\n",
    "for i in range(height.size + width.size):\n",
    "    qc_image.h(i)\n",
    "\n",
    "# For every pixel\n",
    "for j in range(num_cols):\n",
    "    for i in range(num_rows):\n",
    "\n",
    "        # Separate with barrier so it is easy to read later.\n",
    "        qc_image.barrier()\n",
    "\n",
    "        # Encode pixel position in binary format:\n",
    "        x = np.binary_repr(j, width=width.size)\n",
    "        y = np.binary_repr(i, width=height.size)\n",
    "\n",
    "        # Encode x position\n",
    "        for idx, ctr in enumerate(x[::-1]):\n",
    "\n",
    "            # Add a X Gate\n",
    "            if ctr == '1':\n",
    "                qc_image.x(height.size + idx)\n",
    "\n",
    "        # Encode y position\n",
    "        for idy, ctr in enumerate(y[::-1]):\n",
    "\n",
    "            # Add a X Gate\n",
    "            if ctr == '1':\n",
    "                qc_image.x(idy)\n",
    "\n",
    "        # Encode pixel values as rotational angle:\n",
    "        qc_image.append(RYGate(2*scaled_img[i, j]).control(width.size + height.size),\n",
    "                        list(range(intensity.size + width.size + height.size)))\n",
    "\n",
    "        # if i == num_rows - 1 and j < num_cols - 1:\n",
    "        # Restore x position\n",
    "        for idx, ctr in enumerate(x[::-1]):\n",
    "\n",
    "            # Add a X Gate\n",
    "            if ctr == '1':\n",
    "                qc_image.x(height.size + idx)\n",
    "\n",
    "        # Restore y position\n",
    "        for idy, ctr in enumerate(y[::-1]):\n",
    "\n",
    "            # Add a X Gate\n",
    "            if ctr == '1':\n",
    "                qc_image.x(idy)\n",
    "\n",
    "qc.append(qc_image.to_instruction(), list(range(0, qc_image.num_qubits)))\n",
    "\n",
    "qc.measure_all()\n",
    "\n",
    "qc.draw()"
   ]
  },
  {
   "cell_type": "code",
   "execution_count": 21,
   "metadata": {
    "pycharm": {
     "name": "#%%\n"
    }
   },
   "outputs": [
    {
     "name": "stdout",
     "output_type": "stream",
     "text": [
      "Circuit dimensions\n",
      "Circuit depth:  5238273\n",
      "Circuit size:  7342090\n"
     ]
    },
    {
     "data": {
      "text/plain": [
       "<matplotlib.image.AxesImage at 0x7f87da619550>"
      ]
     },
     "execution_count": 21,
     "metadata": {},
     "output_type": "execute_result"
    },
    {
     "data": {
      "image/png": "[encoded data removed]",
      "text/plain": [
       "<Figure size 432x288 with 1 Axes>"
      ]
     },
     "metadata": {
      "needs_background": "light"
     },
     "output_type": "display_data"
    }
   ],
   "source": [
    "# Initialize the simulator\n",
    "aer_sim = AerSimulator()\n",
    "# Run the simulation\n",
    "num_of_shots = 100000\n",
    "t_qc = transpile(qc, aer_sim)\n",
    "qobj = assemble(t_qc, shots=num_of_shots)\n",
    "job = aer_sim.run(qobj)\n",
    "counts = job.result().get_counts()\n",
    "# Evaluate the depth of the circuit\n",
    "print('Circuit dimensions')\n",
    "print('Circuit depth: ', qc_image.decompose().depth())\n",
    "print('Circuit size: ', qc_image.decompose().size())\n",
    "\n",
    "\n",
    "# Convert and store the output image\n",
    "scale_factor = len(counts.items()) / num_of_shots\n",
    "cosine, sine  = np.zeros(image.shape), np.zeros(image.shape)\n",
    "output_image = np.zeros(image.shape)\n",
    "\n",
    "# Decode each outcome\n",
    "for bits in counts.items():\n",
    "\n",
    "    y = int(bits[0][1:width.size + 1], 2)\n",
    "    x = int(bits[0][width.size + 1:width.size + height.size + 1], 2)\n",
    "\n",
    "\n",
    "    if bits[0][0] == '0':\n",
    "        cosine[x, y] = np.sqrt(scale_factor * bits[1])\n",
    "    else:\n",
    "        sine[x, y] = np.sqrt(scale_factor * bits[1])\n",
    "\n",
    "# For every pixel\n",
    "for i in range(num_cols):\n",
    "    for j in range(num_rows):\n",
    "        output_image[num_rows - j - 1][num_cols - i - 1] = \\\n",
    "            int(255 * (np.arctan2(sine[j][i], cosine[j][i]) / (np.pi / 2)))\n",
    "\n",
    "plt.imshow(output_image, cmap='gray', vmin=0, vmax=255)"
   ]
  },
  {
   "cell_type": "markdown",
   "metadata": {
    "pycharm": {
     "name": "#%% md\n"
    }
   },
   "source": [
    "## NEQR: A Novel Enhanced Quantum Representation of Digital Images"
   ]
  },
  {
   "cell_type": "code",
   "execution_count": 22,
   "metadata": {},
   "outputs": [
    {
     "data": {
      "text/html": [
       "<pre style=\"word-wrap: normal;white-space: pre;background: #fff0;line-height: 1.1;font-family: &quot;Courier New&quot;,Courier,monospace\">             ┌──────────────────┐ ░ ┌─┐                                       »\n",
       "intensity_0: ┤0                 ├─░─┤M├───────────────────────────────────────»\n",
       "             │                  │ ░ └╥┘┌─┐                                    »\n",
       "intensity_1: ┤1                 ├─░──╫─┤M├────────────────────────────────────»\n",
       "             │                  │ ░  ║ └╥┘┌─┐                                 »\n",
       "intensity_2: ┤2                 ├─░──╫──╫─┤M├─────────────────────────────────»\n",
       "             │                  │ ░  ║  ║ └╥┘┌─┐                              »\n",
       "intensity_3: ┤3                 ├─░──╫──╫──╫─┤M├──────────────────────────────»\n",
       "             │                  │ ░  ║  ║  ║ └╥┘┌─┐                           »\n",
       "intensity_4: ┤4                 ├─░──╫──╫──╫──╫─┤M├───────────────────────────»\n",
       "             │                  │ ░  ║  ║  ║  ║ └╥┘┌─┐                        »\n",
       "intensity_5: ┤5                 ├─░──╫──╫──╫──╫──╫─┤M├────────────────────────»\n",
       "             │                  │ ░  ║  ║  ║  ║  ║ └╥┘┌─┐                     »\n",
       "intensity_6: ┤6                 ├─░──╫──╫──╫──╫──╫──╫─┤M├─────────────────────»\n",
       "             │                  │ ░  ║  ║  ║  ║  ║  ║ └╥┘┌─┐                  »\n",
       "intensity_7: ┤7                 ├─░──╫──╫──╫──╫──╫──╫──╫─┤M├──────────────────»\n",
       "             │                  │ ░  ║  ║  ║  ║  ║  ║  ║ └╥┘┌─┐               »\n",
       "   height_0: ┤8                 ├─░──╫──╫──╫──╫──╫──╫──╫──╫─┤M├───────────────»\n",
       "             │   Image Encoding │ ░  ║  ║  ║  ║  ║  ║  ║  ║ └╥┘┌─┐            »\n",
       "   height_1: ┤9                 ├─░──╫──╫──╫──╫──╫──╫──╫──╫──╫─┤M├────────────»\n",
       "             │                  │ ░  ║  ║  ║  ║  ║  ║  ║  ║  ║ └╥┘┌─┐         »\n",
       "   height_2: ┤10                ├─░──╫──╫──╫──╫──╫──╫──╫──╫──╫──╫─┤M├─────────»\n",
       "             │                  │ ░  ║  ║  ║  ║  ║  ║  ║  ║  ║  ║ └╥┘┌─┐      »\n",
       "   height_3: ┤11                ├─░──╫──╫──╫──╫──╫──╫──╫──╫──╫──╫──╫─┤M├──────»\n",
       "             │                  │ ░  ║  ║  ║  ║  ║  ║  ║  ║  ║  ║  ║ └╥┘┌─┐   »\n",
       "   height_4: ┤12                ├─░──╫──╫──╫──╫──╫──╫──╫──╫──╫──╫──╫──╫─┤M├───»\n",
       "             │                  │ ░  ║  ║  ║  ║  ║  ║  ║  ║  ║  ║  ║  ║ └╥┘┌─┐»\n",
       "    width_0: ┤13                ├─░──╫──╫──╫──╫──╫──╫──╫──╫──╫──╫──╫──╫──╫─┤M├»\n",
       "             │                  │ ░  ║  ║  ║  ║  ║  ║  ║  ║  ║  ║  ║  ║  ║ └╥┘»\n",
       "    width_1: ┤14                ├─░──╫──╫──╫──╫──╫──╫──╫──╫──╫──╫──╫──╫──╫──╫─»\n",
       "             │                  │ ░  ║  ║  ║  ║  ║  ║  ║  ║  ║  ║  ║  ║  ║  ║ »\n",
       "    width_2: ┤15                ├─░──╫──╫──╫──╫──╫──╫──╫──╫──╫──╫──╫──╫──╫──╫─»\n",
       "             │                  │ ░  ║  ║  ║  ║  ║  ║  ║  ║  ║  ║  ║  ║  ║  ║ »\n",
       "    width_3: ┤16                ├─░──╫──╫──╫──╫──╫──╫──╫──╫──╫──╫──╫──╫──╫──╫─»\n",
       "             │                  │ ░  ║  ║  ║  ║  ║  ║  ║  ║  ║  ║  ║  ║  ║  ║ »\n",
       "    width_4: ┤17                ├─░──╫──╫──╫──╫──╫──╫──╫──╫──╫──╫──╫──╫──╫──╫─»\n",
       "             └──────────────────┘ ░  ║  ║  ║  ║  ║  ║  ║  ║  ║  ║  ║  ║  ║  ║ »\n",
       "    meas: 18/════════════════════════╩══╩══╩══╩══╩══╩══╩══╩══╩══╩══╩══╩══╩══╩═»\n",
       "                                     0  1  2  3  4  5  6  7  8  9  10 11 12 13»\n",
       "«                         \n",
       "«intensity_0: ────────────\n",
       "«                         \n",
       "«intensity_1: ────────────\n",
       "«                         \n",
       "«intensity_2: ────────────\n",
       "«                         \n",
       "«intensity_3: ────────────\n",
       "«                         \n",
       "«intensity_4: ────────────\n",
       "«                         \n",
       "«intensity_5: ────────────\n",
       "«                         \n",
       "«intensity_6: ────────────\n",
       "«                         \n",
       "«intensity_7: ────────────\n",
       "«                         \n",
       "«   height_0: ────────────\n",
       "«                         \n",
       "«   height_1: ────────────\n",
       "«                         \n",
       "«   height_2: ────────────\n",
       "«                         \n",
       "«   height_3: ────────────\n",
       "«                         \n",
       "«   height_4: ────────────\n",
       "«                         \n",
       "«    width_0: ────────────\n",
       "«             ┌─┐         \n",
       "«    width_1: ┤M├─────────\n",
       "«             └╥┘┌─┐      \n",
       "«    width_2: ─╫─┤M├──────\n",
       "«              ║ └╥┘┌─┐   \n",
       "«    width_3: ─╫──╫─┤M├───\n",
       "«              ║  ║ └╥┘┌─┐\n",
       "«    width_4: ─╫──╫──╫─┤M├\n",
       "«              ║  ║  ║ └╥┘\n",
       "«    meas: 18/═╩══╩══╩══╩═\n",
       "«              14 15 16 17</pre>"
      ],
      "text/plain": [
       "             ┌──────────────────┐ ░ ┌─┐                                       »\n",
       "intensity_0: ┤0                 ├─░─┤M├───────────────────────────────────────»\n",
       "             │                  │ ░ └╥┘┌─┐                                    »\n",
       "intensity_1: ┤1                 ├─░──╫─┤M├────────────────────────────────────»\n",
       "             │                  │ ░  ║ └╥┘┌─┐                                 »\n",
       "intensity_2: ┤2                 ├─░──╫──╫─┤M├─────────────────────────────────»\n",
       "             │                  │ ░  ║  ║ └╥┘┌─┐                              »\n",
       "intensity_3: ┤3                 ├─░──╫──╫──╫─┤M├──────────────────────────────»\n",
       "             │                  │ ░  ║  ║  ║ └╥┘┌─┐                           »\n",
       "intensity_4: ┤4                 ├─░──╫──╫──╫──╫─┤M├───────────────────────────»\n",
       "             │                  │ ░  ║  ║  ║  ║ └╥┘┌─┐                        »\n",
       "intensity_5: ┤5                 ├─░──╫──╫──╫──╫──╫─┤M├────────────────────────»\n",
       "             │                  │ ░  ║  ║  ║  ║  ║ └╥┘┌─┐                     »\n",
       "intensity_6: ┤6                 ├─░──╫──╫──╫──╫──╫──╫─┤M├─────────────────────»\n",
       "             │                  │ ░  ║  ║  ║  ║  ║  ║ └╥┘┌─┐                  »\n",
       "intensity_7: ┤7                 ├─░──╫──╫──╫──╫──╫──╫──╫─┤M├──────────────────»\n",
       "             │                  │ ░  ║  ║  ║  ║  ║  ║  ║ └╥┘┌─┐               »\n",
       "   height_0: ┤8                 ├─░──╫──╫──╫──╫──╫──╫──╫──╫─┤M├───────────────»\n",
       "             │   Image Encoding │ ░  ║  ║  ║  ║  ║  ║  ║  ║ └╥┘┌─┐            »\n",
       "   height_1: ┤9                 ├─░──╫──╫──╫──╫──╫──╫──╫──╫──╫─┤M├────────────»\n",
       "             │                  │ ░  ║  ║  ║  ║  ║  ║  ║  ║  ║ └╥┘┌─┐         »\n",
       "   height_2: ┤10                ├─░──╫──╫──╫──╫──╫──╫──╫──╫──╫──╫─┤M├─────────»\n",
       "             │                  │ ░  ║  ║  ║  ║  ║  ║  ║  ║  ║  ║ └╥┘┌─┐      »\n",
       "   height_3: ┤11                ├─░──╫──╫──╫──╫──╫──╫──╫──╫──╫──╫──╫─┤M├──────»\n",
       "             │                  │ ░  ║  ║  ║  ║  ║  ║  ║  ║  ║  ║  ║ └╥┘┌─┐   »\n",
       "   height_4: ┤12                ├─░──╫──╫──╫──╫──╫──╫──╫──╫──╫──╫──╫──╫─┤M├───»\n",
       "             │                  │ ░  ║  ║  ║  ║  ║  ║  ║  ║  ║  ║  ║  ║ └╥┘┌─┐»\n",
       "    width_0: ┤13                ├─░──╫──╫──╫──╫──╫──╫──╫──╫──╫──╫──╫──╫──╫─┤M├»\n",
       "             │                  │ ░  ║  ║  ║  ║  ║  ║  ║  ║  ║  ║  ║  ║  ║ └╥┘»\n",
       "    width_1: ┤14                ├─░──╫──╫──╫──╫──╫──╫──╫──╫──╫──╫──╫──╫──╫──╫─»\n",
       "             │                  │ ░  ║  ║  ║  ║  ║  ║  ║  ║  ║  ║  ║  ║  ║  ║ »\n",
       "    width_2: ┤15                ├─░──╫──╫──╫──╫──╫──╫──╫──╫──╫──╫──╫──╫──╫──╫─»\n",
       "             │                  │ ░  ║  ║  ║  ║  ║  ║  ║  ║  ║  ║  ║  ║  ║  ║ »\n",
       "    width_3: ┤16                ├─░──╫──╫──╫──╫──╫──╫──╫──╫──╫──╫──╫──╫──╫──╫─»\n",
       "             │                  │ ░  ║  ║  ║  ║  ║  ║  ║  ║  ║  ║  ║  ║  ║  ║ »\n",
       "    width_4: ┤17                ├─░──╫──╫──╫──╫──╫──╫──╫──╫──╫──╫──╫──╫──╫──╫─»\n",
       "             └──────────────────┘ ░  ║  ║  ║  ║  ║  ║  ║  ║  ║  ║  ║  ║  ║  ║ »\n",
       "    meas: 18/════════════════════════╩══╩══╩══╩══╩══╩══╩══╩══╩══╩══╩══╩══╩══╩═»\n",
       "                                     0  1  2  3  4  5  6  7  8  9  10 11 12 13»\n",
       "«                         \n",
       "«intensity_0: ────────────\n",
       "«                         \n",
       "«intensity_1: ────────────\n",
       "«                         \n",
       "«intensity_2: ────────────\n",
       "«                         \n",
       "«intensity_3: ────────────\n",
       "«                         \n",
       "«intensity_4: ────────────\n",
       "«                         \n",
       "«intensity_5: ────────────\n",
       "«                         \n",
       "«intensity_6: ────────────\n",
       "«                         \n",
       "«intensity_7: ────────────\n",
       "«                         \n",
       "«   height_0: ────────────\n",
       "«                         \n",
       "«   height_1: ────────────\n",
       "«                         \n",
       "«   height_2: ────────────\n",
       "«                         \n",
       "«   height_3: ────────────\n",
       "«                         \n",
       "«   height_4: ────────────\n",
       "«                         \n",
       "«    width_0: ────────────\n",
       "«             ┌─┐         \n",
       "«    width_1: ┤M├─────────\n",
       "«             └╥┘┌─┐      \n",
       "«    width_2: ─╫─┤M├──────\n",
       "«              ║ └╥┘┌─┐   \n",
       "«    width_3: ─╫──╫─┤M├───\n",
       "«              ║  ║ └╥┘┌─┐\n",
       "«    width_4: ─╫──╫──╫─┤M├\n",
       "«              ║  ║  ║ └╥┘\n",
       "«    meas: 18/═╩══╩══╩══╩═\n",
       "«              14 15 16 17"
      ]
     },
     "execution_count": 22,
     "metadata": {},
     "output_type": "execute_result"
    }
   ],
   "source": [
    "# Define the number of qubits needed to store the image positions\n",
    "num_rows, num_cols = image.shape\n",
    "\n",
    "# Image size\n",
    "height = QuantumRegister(math.ceil(np.log2(num_rows)), 'height')\n",
    "width = QuantumRegister(math.ceil(np.log2(num_cols)), 'width')\n",
    "\n",
    "# grayscale pixel intensity value\n",
    "intensity = QuantumRegister(8, 'intensity')\n",
    "\n",
    "# set the total number of qubits\n",
    "num_qubits = intensity.size + width.size + height.size\n",
    "\n",
    "# create the quantum circuit for the image\n",
    "qc_image = QuantumCircuit(intensity, height, width, name='Image Encoding')\n",
    "\n",
    "# create a larger circuit to integrate the quantum image encoding\n",
    "qc = QuantumCircuit(intensity, height, width)\n",
    "\n",
    "# Optional: Add Identity gates to the intensity values\n",
    "for i in range(intensity.size):\n",
    "    qc_image.i(i)\n",
    "\n",
    "# Add Hadamard gates to store the rows of the image\n",
    "for x in range(height.size):\n",
    "    qc_image.h(intensity.size + x)\n",
    "\n",
    "# Add Hadamard gates to store the columns of the image\n",
    "for y in range(width.size):\n",
    "    qc_image.h(intensity.size + height.size + y)\n",
    "\n",
    "\n",
    "# For every pixel\n",
    "for i in range(num_rows):\n",
    "    for j in range(num_cols):\n",
    "\n",
    "        # Separate with barrier so it is easy to read later.\n",
    "        qc_image.barrier()\n",
    "\n",
    "        # Encode pixel position in binary format:\n",
    "        y = np.binary_repr(i, width=height.size)\n",
    "        x = np.binary_repr(j, width=width.size)\n",
    "\n",
    "        # Encode x position\n",
    "        for idx, ctr in enumerate(x[::-1]):\n",
    "\n",
    "            # Add a X Gate\n",
    "            if ctr == '1':\n",
    "                qc_image.x(intensity.size + height.size + idx)\n",
    "\n",
    "        # Encode y position\n",
    "        for idy, ctr in enumerate(y[::-1]):\n",
    "\n",
    "            # Add a X Gate\n",
    "            if ctr == '1':\n",
    "                qc_image.x(intensity.size + idy)\n",
    "\n",
    "\n",
    "        # Encode pixel values in binary format:\n",
    "        pixel = np.binary_repr(int(image[i, j]), width=intensity.size)\n",
    "\n",
    "        for idx, px in enumerate(pixel[::-1]):\n",
    "\n",
    "            # add a control not gate\n",
    "            if px == '1':\n",
    "                qc_image.mcx(list(range(intensity.size, num_qubits)), idx)\n",
    "\n",
    "        # Restore the original\n",
    "        # Encode x position\n",
    "        for idx, ctr in enumerate(x[::-1]):\n",
    "\n",
    "            # Add a X Gate\n",
    "            if ctr == '1':\n",
    "                qc_image.x(intensity.size + height.size + idx)\n",
    "\n",
    "        # Encode y position\n",
    "        for idy, ctr in enumerate(y[::-1]):\n",
    "\n",
    "            # Add a X Gate\n",
    "            if ctr == '1':\n",
    "                qc_image.x(intensity.size + idy)\n",
    "\n",
    "\n",
    "qc.append(qc_image.to_instruction(), list(range(0, qc_image.num_qubits)))\n",
    "\n",
    "qc.measure_all()\n",
    "\n",
    "qc.draw()\n"
   ]
  },
  {
   "cell_type": "markdown",
   "metadata": {
    "pycharm": {
     "name": "#%% md\n"
    }
   },
   "source": [
    "### Simulation Results"
   ]
  },
  {
   "cell_type": "code",
   "execution_count": 23,
   "metadata": {
    "pycharm": {
     "name": "#%%\n"
    }
   },
   "outputs": [
    {
     "name": "stdout",
     "output_type": "stream",
     "text": [
      "Circuit dimensions\n",
      "Circuit depth:  6071\n",
      "Circuit size:  22324\n",
      "32 32\n"
     ]
    },
    {
     "data": {
      "text/plain": [
       "<matplotlib.image.AxesImage at 0x7f81431924c0>"
      ]
     },
     "execution_count": 23,
     "metadata": {},
     "output_type": "execute_result"
    },
    {
     "data": {
      "image/png": "[encoded data removed]",
      "text/plain": [
       "<Figure size 432x288 with 1 Axes>"
      ]
     },
     "metadata": {
      "needs_background": "light"
     },
     "output_type": "display_data"
    }
   ],
   "source": [
    "# Initialize the simulator\n",
    "aer_sim = AerSimulator()\n",
    "# Run the simulation\n",
    "t_qc = transpile(qc, aer_sim)\n",
    "qobj = assemble(t_qc, shots=100000)\n",
    "job = aer_sim.run(qobj)\n",
    "counts = job.result().get_counts()\n",
    "# Evaluate the depth of the circuit\n",
    "print('Circuit dimensions')\n",
    "print('Circuit depth: ', qc_image.decompose().depth())\n",
    "print('Circuit size: ', qc_image.decompose().size())\n",
    "\n",
    "# Store the output image\n",
    "output_image = np.zeros((image.shape[0], image.shape[1]))\n",
    "\n",
    "print(image.shape[1], image.shape[0])\n",
    "\n",
    "# Decode each outcome\n",
    "for bits in counts.items():\n",
    "\n",
    "    x = int(bits[0][0:width.size], 2)\n",
    "    y = int(bits[0][width.size:width.size + height.size], 2)\n",
    "\n",
    "    pixel = int(bits[0][height.size + width.size:height.size + width.size + intensity.size], 2)\n",
    "\n",
    "    output_image[image.shape[0] - y - 1][image.shape[1] - x - 1] = pixel\n",
    "\n",
    "\n",
    "plt.imshow(output_image, cmap='gray', vmin=0, vmax=255)"
   ]
  }
 ],
 "metadata": {
  "kernelspec": {
   "display_name": "Python 3 (ipykernel)",
   "language": "python",
   "name": "python3"
  },
  "language_info": {
   "codemirror_mode": {
    "name": "ipython",
    "version": 3
   },
   "file_extension": ".py",
   "mimetype": "text/x-python",
   "name": "python",
   "nbconvert_exporter": "python",
   "pygments_lexer": "ipython3",
   "version": "3.8.11"
  }
 },
 "nbformat": 4,
 "nbformat_minor": 4
}
